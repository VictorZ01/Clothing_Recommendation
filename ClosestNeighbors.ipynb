{
 "cells": [
  {
   "cell_type": "code",
   "execution_count": null,
   "metadata": {},
   "outputs": [],
   "source": [
    "import torch\n",
    "import pandas as pd\n",
    "import os\n",
    "from torchvision import models, transforms\n",
    "from sklearn.neighbors import NearestNeighbors\n",
    "from PIL import Image\n",
    "import numpy as np\n",
    "from csv import writer\n",
    "import random"
   ]
  },
  {
   "cell_type": "code",
   "execution_count": null,
   "metadata": {},
   "outputs": [],
   "source": [
    "#random \n",
    "with open('ratings.csv','a',newline='') as fd:\n",
    "    x=[]\n",
    "    for i in range(1000):\n",
    "        x.append(random.random())\n",
    "    for i in x:\n",
    "        writer(fd).writerow([i])\n",
    "        "
   ]
  },
  {
   "cell_type": "code",
   "execution_count": null,
   "metadata": {},
   "outputs": [],
   "source": [
    "extracted_features = torch.load(\"extracted_features.pt\")\n",
    "user_preferance  = pd.read_csv('ratings.csv')\n",
    "print(extracted_features.shape)\n",
    "extracted_features=extracted_features[0:len(user_preferance)]\n",
    "print(user_preferance.shape)\n",
    "print(extracted_features.shape)\n",
    "user_preferance = np.array(user_preferance)"
   ]
  },
  {
   "cell_type": "code",
   "execution_count": null,
   "metadata": {},
   "outputs": [],
   "source": [
    "transform = transforms.Compose([\n",
    "    transforms.Resize((224, 224)),\n",
    "    transforms.ToTensor(),\n",
    "    transforms.Normalize(mean=[0.485, 0.456, 0.406], std=[0.229, 0.224, 0.225])\n",
    "])\n",
    "resnet50 = models.resnet50(weights=None)\n",
    "\n",
    "resnet50 = torch.nn.Sequential(*list(resnet50.children())[:-1])\n",
    "\n",
    "resnet50.eval()"
   ]
  },
  {
   "cell_type": "code",
   "execution_count": null,
   "metadata": {},
   "outputs": [],
   "source": [
    "def get_features(image_path):\n",
    "    img = Image.open(image_path).convert('RGB')\n",
    "    img = transform(img).unsqueeze(0) \n",
    "    with torch.no_grad():\n",
    "        features = resnet50(img)\n",
    "    return features.flatten().numpy()"
   ]
  },
  {
   "cell_type": "code",
   "execution_count": null,
   "metadata": {},
   "outputs": [],
   "source": [
    "image_folder = \"Pictures\"\n",
    "new_features = []\n",
    "new_images = [os.path.join(image_folder, f) for f in os.listdir(image_folder) if f.endswith(('.jpg', '.png'))]\n",
    "for i in new_images:\n",
    "    features = get_features(i)\n",
    "    new_features.append(features)"
   ]
  },
  {
   "cell_type": "code",
   "execution_count": null,
   "metadata": {},
   "outputs": [],
   "source": [
    "print(len(new_features))\n",
    "new_features_np = np.array(new_features)\n",
    "print(new_features_np.shape)"
   ]
  },
  {
   "cell_type": "code",
   "execution_count": null,
   "metadata": {},
   "outputs": [],
   "source": [
    "from sklearn.preprocessing import StandardScaler\n",
    "scaler = StandardScaler()\n",
    "extracted_features = scaler.fit_transform(extracted_features)\n",
    "new_features_np = scaler.transform(new_features_np)"
   ]
  },
  {
   "cell_type": "code",
   "execution_count": null,
   "metadata": {},
   "outputs": [],
   "source": [
    "from sklearn.decomposition import PCA\n",
    "import matplotlib.pyplot as plt\n",
    "\n",
    "pca = PCA(n_components=2)\n",
    "reduced_features = pca.fit_transform(extracted_features)\n",
    "plt.scatter(reduced_features[:, 0], reduced_features[:, 1])\n",
    "plt.show()"
   ]
  },
  {
   "cell_type": "code",
   "execution_count": null,
   "metadata": {},
   "outputs": [],
   "source": [
    "\n",
    "model  = NearestNeighbors(n_neighbors=10)\n",
    "model.fit(extracted_features)\n"
   ]
  },
  {
   "cell_type": "code",
   "execution_count": null,
   "metadata": {},
   "outputs": [],
   "source": [
    "distances , indexes = model.kneighbors(new_features)\n",
    "recommended = [] \n",
    "print(indexes[:5])\n",
    "for i, path in enumerate(new_images):\n",
    "    \n",
    "    r = user_preferance[indexes[i]]\n",
    "    a = np.mean(r)\n",
    "    recommended.append((path,a))"
   ]
  },
  {
   "cell_type": "code",
   "execution_count": null,
   "metadata": {},
   "outputs": [],
   "source": [
    "for img, avg_pref in recommended:\n",
    "    print(f\"Image: {img}, Recommended Preference: {avg_pref:.2f}\")"
   ]
  }
 ],
 "metadata": {
  "kernelspec": {
   "display_name": "Python 3",
   "language": "python",
   "name": "python3"
  },
  "language_info": {
   "codemirror_mode": {
    "name": "ipython",
    "version": 3
   },
   "file_extension": ".py",
   "mimetype": "text/x-python",
   "name": "python",
   "nbconvert_exporter": "python",
   "pygments_lexer": "ipython3",
   "version": "3.12.3"
  }
 },
 "nbformat": 4,
 "nbformat_minor": 2
}
